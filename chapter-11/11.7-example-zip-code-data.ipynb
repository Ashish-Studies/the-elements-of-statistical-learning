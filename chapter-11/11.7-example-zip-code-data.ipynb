{
 "cells": [
  {
   "cell_type": "markdown",
   "metadata": {},
   "source": [
    "# 11.7 Example: ZIP Code Data (WIP)"
   ]
  },
  {
   "cell_type": "code",
   "execution_count": 1,
   "metadata": {},
   "outputs": [],
   "source": [
    "%matplotlib inline\n",
    "import numpy as np\n",
    "import pandas as pd\n",
    "import matplotlib.pyplot as plt\n",
    "import tensorflow as tf\n",
    "import tensorflow.contrib.eager as tfe\n",
    "\n",
    "tf.enable_eager_execution()"
   ]
  },
  {
   "cell_type": "code",
   "execution_count": 2,
   "metadata": {},
   "outputs": [],
   "source": [
    "def load_data(path):\n",
    "    df = pd.read_csv(path, delim_whitespace=True, header=None)\n",
    "    df_y = df.pop(0)\n",
    "    return (tf.convert_to_tensor(df.values, dtype=tf.float32), \n",
    "            tf.convert_to_tensor(df_y.values, dtype=tf.int32))\n",
    "\n",
    "train_x, train_y = load_data('../data/zipcode/zip.train')\n",
    "test_x, test_y = load_data('../data/zipcode/zip.test')\n",
    "epochs = 60"
   ]
  },
  {
   "cell_type": "code",
   "execution_count": 3,
   "metadata": {},
   "outputs": [],
   "source": [
    "from abc import ABC, abstractmethod\n",
    "\n",
    "class BaseModel(ABC, tf.keras.Model):\n",
    "    def __init__(self):\n",
    "        super(BaseModel, self).__init__()\n",
    "       \n",
    "    @abstractmethod\n",
    "    def call(self, x):\n",
    "        pass\n",
    "\n",
    "    def loss(self, x, y):\n",
    "        preds = self(x)\n",
    "        return tf.losses.sparse_softmax_cross_entropy(labels=y, logits=preds)\n",
    "\n",
    "    def grad(self, x, y):\n",
    "        with tf.GradientTape() as tape:\n",
    "            loss_value = self.loss(x, y)\n",
    "        return tape.gradient(loss_value, self.variables)\n",
    "    \n",
    "    def accuracy(self, dataset):\n",
    "        accuracy = tfe.metrics.Accuracy()\n",
    "        for (x, y) in dataset:\n",
    "            preds = tf.argmax(self(x), axis=1, output_type=tf.int32)\n",
    "            accuracy(preds, y)\n",
    "        return accuracy.result()\n",
    "       \n",
    "    def fit(self, x, y, test_x, test_y, epochs = 60, batch_size = 32):\n",
    "        dataset = tf.data.Dataset.from_tensor_slices((x, y)) \\\n",
    "                                 .shuffle(buffer_size=1000) \\\n",
    "                                 .batch(batch_size)\n",
    "        test_dataset = tf.data.Dataset.from_tensor_slices((test_x, test_y)).batch(batch_size)\n",
    "        \n",
    "        train_hist = []\n",
    "        test_hist = []\n",
    "\n",
    "        optimizer = tf.train.GradientDescentOptimizer(learning_rate=0.01)\n",
    "        for i in range(epochs):\n",
    "            for (x, y) in dataset:\n",
    "                grads = self.grad(x, y)\n",
    "                optimizer.apply_gradients(zip(grads, self.variables))\n",
    "            train_hist.append(self.accuracy(dataset))\n",
    "            test_hist.append(self.accuracy(test_dataset))\n",
    "\n",
    "        return train_hist, test_hist"
   ]
  },
  {
   "cell_type": "code",
   "execution_count": 4,
   "metadata": {},
   "outputs": [
    {
     "data": {
      "image/png": "[encoded data removed]",
      "text/plain": [
       "<Figure size 864x432 with 2 Axes>"
      ]
     },
     "metadata": {},
     "output_type": "display_data"
    }
   ],
   "source": [
    "# Set up plotting\n",
    "fig = plt.figure(figsize = (12, 6))\n",
    "train_axes = fig.add_subplot(1, 2, 1)\n",
    "train_axes.set_title('Train Results')\n",
    "train_axes.set_xlabel('Epochs')\n",
    "train_axes.set_ylabel('% Correct on Train Data')\n",
    "\n",
    "test_axes = fig.add_subplot(1, 2, 2)\n",
    "test_axes.set_title('Test Results')\n",
    "test_axes.set_xlabel('Epochs')\n",
    "test_axes.set_ylabel('% Correct on Test Data')\n",
    "\n",
    "def plot_model(model, label):\n",
    "    epochs_hist = np.arange(1, epochs + 1)\n",
    "    train_hist, test_hist = model.fit(train_x, train_y, \n",
    "                                      test_x=test_x, test_y=test_y, \n",
    "                                      epochs=epochs)\n",
    "    train_axes.plot(epochs_hist, train_hist, label=label)\n",
    "    train_axes.legend()\n",
    "    test_axes.plot(epochs_hist, test_hist, label=label)\n",
    "    test_axes.legend()"
   ]
  },
  {
   "cell_type": "code",
   "execution_count": null,
   "metadata": {},
   "outputs": [],
   "source": [
    "class Net1(BaseModel):\n",
    "    def __init__(self):\n",
    "        super(Net1, self).__init__()\n",
    "        self.layer = tf.keras.layers.Dense(units=10)\n",
    "    \n",
    "    def call(self, x):\n",
    "        return self.layer(x)\n",
    "\n",
    "plot_model(Net1(), 'Net-1')\n",
    "fig"
   ]
  },
  {
   "cell_type": "code",
   "execution_count": null,
   "metadata": {},
   "outputs": [],
   "source": [
    "class Net2(BaseModel):\n",
    "    def __init__(self):\n",
    "        super(Net2, self).__init__()\n",
    "        self.layer1 = tf.keras.layers.Dense(units=12, activation=tf.sigmoid)\n",
    "        self.layer2 = tf.keras.layers.Dense(units=10)\n",
    "\n",
    "    def call(self, x):\n",
    "        out = self.layer1(x)\n",
    "        out = self.layer2(out)\n",
    "        return out\n",
    "\n",
    "plot_model(Net2(), 'Net-2')\n",
    "fig"
   ]
  }
 ],
 "metadata": {
  "kernelspec": {
   "display_name": "Python 3",
   "language": "python",
   "name": "python3"
  },
  "language_info": {
   "codemirror_mode": {
    "name": "ipython",
    "version": 3
   },
   "file_extension": ".py",
   "mimetype": "text/x-python",
   "name": "python",
   "nbconvert_exporter": "python",
   "pygments_lexer": "ipython3",
   "version": "3.6.5"
  }
 },
 "nbformat": 4,
 "nbformat_minor": 2
}
