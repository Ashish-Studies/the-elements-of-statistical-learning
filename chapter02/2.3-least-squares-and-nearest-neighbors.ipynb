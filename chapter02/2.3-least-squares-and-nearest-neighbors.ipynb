{
 "cells": [
  {
   "cell_type": "markdown",
   "metadata": {},
   "source": [
    "# 2.3 Least Squares and Nearest Neighbors"
   ]
  },
  {
   "cell_type": "markdown",
   "metadata": {},
   "source": [
    "### 2.3.3 From Least Squares to Nearest Neighbors"
   ]
  },
  {
   "cell_type": "markdown",
   "metadata": {},
   "source": [
    "1. Generates 10 means $m_k$ from a bivariate Gaussian distrubition for each color:\n",
    "   - $N((1, 0)^T, \\textbf{I})$ for <span style=\"color: blue\">BLUE</span>\n",
    "   - $N((0, 1)^T, \\textbf{I})$ for <span style=\"color: orange\">ORANGE</span>\n",
    "2. For each color generates 100 observations as following:\n",
    "   - For each observation it picks $m_k$ at random with probability 1/10.\n",
    "   - Then generates a $N(m_k,\\textbf{I}/5)$\n"
   ]
  },
  {
   "cell_type": "code",
   "execution_count": 13,
   "metadata": {
    "scrolled": false
   },
   "outputs": [
    {
     "data": {
      "image/png": "[encoded data removed]",
      "text/plain": [
       "<Figure size 576x576 with 1 Axes>"
      ]
     },
     "metadata": {},
     "output_type": "display_data"
    }
   ],
   "source": [
    "%matplotlib inline\n",
    "import random\n",
    "import numpy as np\n",
    "import matplotlib.pyplot as plt\n",
    "\n",
    "def generate_data(size, mean):\n",
    "    identity = np.identity(2)\n",
    "    m = np.random.multivariate_normal(mean, identity, 10)\n",
    "    return np.array([\n",
    "        np.random.multivariate_normal(random.choice(m), identity / 5)\n",
    "        for _ in range(size)\n",
    "    ])\n",
    "\n",
    "sample_size = 100\n",
    "blue_data = generate_data(sample_size, [1, 0])\n",
    "orange_data = generate_data(sample_size, [0, 1])\n",
    "\n",
    "# plotting\n",
    "fig = plt.figure(figsize = (8, 8))\n",
    "axes = fig.add_subplot(1, 1, 1)\n",
    "axes.plot(blue_data[:, 0], blue_data[:, 1], 'o', color='blue')\n",
    "axes.plot(orange_data[:, 0], orange_data[:, 1], 'o', color='orange')\n",
    "plt.show()"
   ]
  },
  {
   "cell_type": "markdown",
   "metadata": {},
   "source": [
    "### 2.3.1 Linear Models and Least Squares"
   ]
  },
  {
   "cell_type": "markdown",
   "metadata": {},
   "source": [
    "$$\\hat{Y} = \\hat{\\beta_0} + \\sum_{j=1}^{p} X_j\\hat{\\beta_j}$$\n",
    "\n",
    "where $\\hat{\\beta_0}$ is the intercept, also know as the *bias*. It is convenient to include the constant variable 1 in X and $\\hat{\\beta_0}$ in the vector of coefficients $\\hat{\\beta}$, and then write as: \n",
    "\n",
    "$$\\hat{Y} = X^T\\hat{B} $$"
   ]
  },
  {
   "cell_type": "markdown",
   "metadata": {},
   "source": [
    "#### Residual sum of squares"
   ]
  },
  {
   "cell_type": "markdown",
   "metadata": {},
   "source": [
    "How to fit the linear mode to a set of training data? Pick the coefficients $\\beta$ to minimize the *residual sum of squares*:\n",
    "\n",
    "$$RSS(\\beta) = \\sum_{i=1}^{N} (y_i - x_i^T\\beta) ^ 2 = (\\textbf{y} - \\textbf{X}\\beta)^T (\\textbf{y} - \\textbf{X}\\beta)$$\n",
    "\n",
    "where $\\textbf{X}$ is an $N \\times p$ matrix with each row an input vector, and $\\textbf{y}$ is an N-vector of the outputs in the training set."
   ]
  },
  {
   "cell_type": "code",
   "execution_count": 15,
   "metadata": {},
   "outputs": [
    {
     "name": "stdout",
     "output_type": "stream",
     "text": [
      "beta =  [ 0.4765416  -0.23674882  0.14086383]\n"
     ]
    }
   ],
   "source": [
    "data_x = np.concatenate((blue_data, orange_data))\n",
    "\n",
    "X = np.hstack((np.ones((len, 1)), data_x))\n",
    "Y = np.concatenate((np.zeros(100), np.ones(100))) \n",
    "beta = np.linalg.lstsq(X, Y, rcond = None)[0]\n",
    "print(\"beta = \", beta)\n"
   ]
  },
  {
   "cell_type": "code",
   "execution_count": null,
   "metadata": {},
   "outputs": [],
   "source": []
  }
 ],
 "metadata": {
  "kernelspec": {
   "display_name": "Python 3",
   "language": "python",
   "name": "python3"
  },
  "language_info": {
   "codemirror_mode": {
    "name": "ipython",
    "version": 3
   },
   "file_extension": ".py",
   "mimetype": "text/x-python",
   "name": "python",
   "nbconvert_exporter": "python",
   "pygments_lexer": "ipython3",
   "version": "3.6.5"
  }
 },
 "nbformat": 4,
 "nbformat_minor": 2
}
