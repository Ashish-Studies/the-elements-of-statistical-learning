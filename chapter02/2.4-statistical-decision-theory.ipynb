{
 "cells": [
  {
   "cell_type": "markdown",
   "metadata": {},
   "source": [
    "# 2.4 Statistical Decision Theory\n",
    "\n",
    "#### Loss function\n",
    "\n",
    "The most common is *squared error loss*: $L(Y, f(X)) = (Y - f(X))^2$\n",
    "\n",
    "#### Expected prediction Error\n",
    "(2.9, 2.10) This leads us to a criterion for choosing $f$, \n",
    " \n",
    "$$EPE(f) = E(Y - f(X))^2 = \\int{[y - f(x)]^2}Pr(dx, dy)$$\n",
    "\n",
    "(2.11) By conditioning on X, we can write EPE as: \n",
    "\n",
    "$$EPE(f) = E_X E_{Y|X} ([Y - f(X)]^2|X) $$\n",
    "\n",
    "Proof:\n",
    "\n",
    "\\begin{equation}\n",
    " \\int{[y - f(x)]^2}Pr(dx, dy) \\\\\n",
    " = \\int{[y - f(x)]^2}p(x, y)dxdy \\\\ \n",
    " = \\int{[y - f(x)]^2}p(x)p(y | x)dxdy \\\\\n",
    " = \\int_x { \\left( \\int_y {[y - f(x)]^2p(y | x)dy} \\right)p(x)dx } \\\\\n",
    " = E_X E_{Y|X} ([Y - f(X)]^2|X)\n",
    "\\end{equation}\n",
    "\n",
    "(2.12) It suffices to minimize EPE pointwise: $$f(x) = argmin_c E_{Y|X} ( [Y - c]^2 | X = x)$$\n",
    "\n",
    "(2.13) The solution is : $$f(x)=E(Y | X = x)$$"
   ]
  },
  {
   "cell_type": "markdown",
   "metadata": {},
   "source": [
    "\\begin{equation}\n",
    " \\int{[y - f(x)]^2}Pr(dx, dy) \\\\\n",
    " = \\int{[y - f(x)]^2}p(x, y)dxdy \\\\ \n",
    " = \\int{[y - f(x)]^2}p(x)p(y | x)dxdy \\\\\n",
    " = \\int_x { \\left( \\int_y {[y - f(x)]^2p(y | x)dy} \\right)p(x)dx } \\\\\n",
    " = E_X E_{Y|X} ([Y - f(X)]^2|X)\n",
    "\\end{equation}"
   ]
  },
  {
   "cell_type": "code",
   "execution_count": 1,
   "metadata": {},
   "outputs": [
    {
     "ename": "SyntaxError",
     "evalue": "unexpected character after line continuation character (<ipython-input-1-71c88f7b4b5b>, line 1)",
     "output_type": "error",
     "traceback": [
      "\u001b[0;36m  File \u001b[0;32m\"<ipython-input-1-71c88f7b4b5b>\"\u001b[0;36m, line \u001b[0;32m1\u001b[0m\n\u001b[0;31m    \\begin{equation}\u001b[0m\n\u001b[0m                    ^\u001b[0m\n\u001b[0;31mSyntaxError\u001b[0m\u001b[0;31m:\u001b[0m unexpected character after line continuation character\n"
     ]
    }
   ],
   "source": [
    "\\begin{equation}\n",
    " \\int{[y - f(x)]^2}Pr(dx, dy) \\\\\n",
    " = \\int{[y - f(x)]^2}p(x, y)dxdy \\\\ \n",
    " = \\int{[y - f(x)]^2}p(x)p(y | x)dxdy \\\\\n",
    "\\end{equation}"
   ]
  },
  {
   "cell_type": "code",
   "execution_count": null,
   "metadata": {},
   "outputs": [],
   "source": []
  }
 ],
 "metadata": {
  "kernelspec": {
   "display_name": "Python 3",
   "language": "python",
   "name": "python3"
  },
  "language_info": {
   "codemirror_mode": {
    "name": "ipython",
    "version": 3
   },
   "file_extension": ".py",
   "mimetype": "text/x-python",
   "name": "python",
   "nbconvert_exporter": "python",
   "pygments_lexer": "ipython3",
   "version": "3.6.5"
  }
 },
 "nbformat": 4,
 "nbformat_minor": 2
}
