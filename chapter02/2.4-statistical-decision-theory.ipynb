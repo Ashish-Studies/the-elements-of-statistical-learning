{
 "cells": [
  {
   "cell_type": "markdown",
   "metadata": {},
   "source": [
    "# 2.4 Statistical Decision Theory\n",
    "\n",
    "#### Loss function\n",
    "\n",
    "The most common is *squared error loss*: $L(Y, f(X)) = (Y - f(X))^2$\n",
    "\n",
    "#### Expected prediction Error\n",
    "(2.9, 2.10) This leads us to a criterion for choosing $f$, \n",
    " \n",
    "$$EPE(f) = E(Y - f(X))^2 = \\int{[y - f(x)]^2}Pr(dx, dy)$$\n",
    "\n",
    "(2.11) By conditioning on X, we can write EPE as: \n",
    "\n",
    "$$EPE(f) = E_X E_{Y|X} ([Y - f(X)]^2|X) $$\n",
    "\n",
    "Proof:\n",
    "\n",
    "$$\n",
    "\\begin{equation}\n",
    " \\int{[y - f(x)]^2}Pr(dx, dy) \\\\\n",
    " = \\int{[y - f(x)]^2}p(x, y)dxdy \\\\ \n",
    " = \\int{[y - f(x)]^2}p(x)p(y | x)dxdy \\\\\n",
    " = \\int_x { \\left( \\int_y {[y - f(x)]^2p(y | x)dy} \\right)p(x)dx } \\\\\n",
    " = E_X E_{Y|X} ([Y - f(X)]^2|X)\n",
    "\\end{equation}\n",
    "$$\n",
    "\n",
    "(2.12) It suffices to minimize EPE pointwise: $$f(x) = argmin_c E_{Y|X} ( [Y - c]^2 | X = x)$$\n",
    "\n",
    "(2.13) The solution is : $$f(x)=E(Y | X = x)$$\n",
    "\n",
    "The **nearest-neighbor** methods attempt to directly implement this recipe\n",
    "using the training data. Since there is typically at most one observation\n",
    "at any point x, we settle for:  $$\\hat{f}(x) = \\text{Ave}(y_i|x_i \\in N_k(x))$$\n",
    "\n",
    "For large training sample size N, the points in the neighborhood are likely\n",
    "to be close to x, and as k gets large the average will get more stable.\n",
    "\n",
    "How does **linear regression fit** into this framework ?\n",
    "\n",
    "$$f(x) \\approx x^T\\beta$$\n",
    "\n",
    "Plugging this into EPE (2.9) and differentiating\n",
    "we can solve for β:\n",
    "\n",
    "$$\\beta= [E(XX^T)]^{-1}E(XY)$$\n",
    "\n",
    "Proof:\n",
    "\n",
    "$$\n",
    "\\begin{equation}\n",
    " \\int{[y - x^T\\beta]^2\\text{ Pr}(dx, dy)} \\\\\n",
    " = \\int{[y^2 - 2yx^T+(x^T\\beta)^2]\\text{ Pr}(dx, dy)} \\\\\n",
    "\\end{equation}\n",
    "$$\n",
    "\n",
    "Differentiating w.r.t $\\beta$:\n",
    "\n",
    "$$\n",
    "\\begin{equation}\n",
    " 2\\int{xx^T\\beta\\text{ Pr}(dx, dy)} -  2\\int{xy\\text{ Pr}(dx, dy)} = 0 \\\\\n",
    " 2 \\times (E(XX^T\\beta) - E(XY)) = 0 \\\\\n",
    " E(XX^T)\\beta = E(XY) \\\\\n",
    " \\beta = [E(XX^T)]^{-1}E(XY)\n",
    "\\end{equation}\n",
    "$$\n",
    "\n",
    "The least squares solution $\\hat{\\beta}=(\\mathbf{X}^T\\mathbf{X})^{-1}\\mathbf{X}^T\\mathbf{y}$   amounts to replacing the expectation in $\\beta = [E(XX^T)]^{-1}E(XY)$ by averages over the training data. **Note:** Each expectation produces N times more than average, however the constant (i.e 1/N) in two expectations cancel out each other.\n"
   ]
  },
  {
   "cell_type": "code",
   "execution_count": 1,
   "metadata": {},
   "outputs": [
    {
     "data": {
      "image/png": "[encoded data removed]",
      "text/plain": [
       "<Figure size 576x576 with 1 Axes>"
      ]
     },
     "metadata": {},
     "output_type": "display_data"
    }
   ],
   "source": [
    "%matplotlib inline\n",
    "\n",
    "import random\n",
    "import numpy as np\n",
    "import matplotlib.pyplot as plt\n",
    "\n",
    "sample_size = 100\n",
    "\n",
    "def generate_data(size, mean):\n",
    "    identity = np.identity(2)\n",
    "    m = np.random.multivariate_normal(mean, identity, 10)\n",
    "    return np.array([\n",
    "        np.random.multivariate_normal(random.choice(m), identity / 5)\n",
    "        for _ in range(size)\n",
    "    ])\n",
    "\n",
    "def plot_data(orange_data, blue_data): \n",
    "    axes.plot(orange_data[:, 0], orange_data[:, 1], 'o', color='orange')\n",
    "    axes.plot(blue_data[:, 0], blue_data[:, 1], 'o', color='blue')\n",
    "    \n",
    "blue_data = generate_data(sample_size, [1, 0])\n",
    "orange_data = generate_data(sample_size, [0, 1])\n",
    "\n",
    "# plotting\n",
    "fig = plt.figure(figsize = (8, 8))\n",
    "axes = fig.add_subplot(1, 1, 1)\n",
    "plot_data(orange_data, blue_data)\n",
    "\n",
    "plt.show()"
   ]
  },
  {
   "cell_type": "code",
   "execution_count": null,
   "metadata": {},
   "outputs": [],
   "source": []
  }
 ],
 "metadata": {
  "kernelspec": {
   "display_name": "Python 3",
   "language": "python",
   "name": "python3"
  },
  "language_info": {
   "codemirror_mode": {
    "name": "ipython",
    "version": 3
   },
   "file_extension": ".py",
   "mimetype": "text/x-python",
   "name": "python",
   "nbconvert_exporter": "python",
   "pygments_lexer": "ipython3",
   "version": "3.6.5"
  }
 },
 "nbformat": 4,
 "nbformat_minor": 2
}
