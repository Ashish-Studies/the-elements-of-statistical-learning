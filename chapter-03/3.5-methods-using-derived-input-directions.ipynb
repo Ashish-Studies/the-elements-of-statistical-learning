{
 "cells": [
  {
   "cell_type": "markdown",
   "metadata": {},
   "source": [
    "# 3.5 Methods Using Derived Input Directions\n",
    "\n",
    "In many situations, we have a large number of inputs, ofter very correlated. This methods in this section produce a small number of linear combinations **Z** of the original inputs **X**."
   ]
  },
  {
   "cell_type": "markdown",
   "metadata": {},
   "source": [
    "### 3.5.1 Principal Components Regression\n",
    "\n",
    "Princinal component regression (PCR) forms the derived input columns $z_m=\\mathbf{X}v_m$ and then regresses $\\mathbf{y} \\text{ on } \\mathbf{z}_1,...,\\mathbf{z}_M$ for some M <= p. Since the **Z** are orthogonal (3.61): \n",
    "$$\n",
    "\\hat{\\mathbf{y}}_{(M)}^{pcr} = \\overline{y}\\mathbf{1} + \\sum_{m=1}^M \\hat{\\theta}_m\\mathbf{z}_m\n",
    "$$\n",
    "\n",
    "where $\\hat{\\theta}_m = \\langle \\mathbf{z}_m, \\mathbf{y} \\rangle / \\langle \\mathbf{z}_m, \\mathbf{z}_m\\rangle$. Since the $\\mathbf{z}_m$ are linear combinations of the original $\\mathbf{x}_j$, we can express in terms of coefficients of the $\\mathbf{x}_j$ (3.62):\n",
    "\n",
    "$$\n",
    "\\hat{\\beta}^{pcr}(M) = \\sum_{m=1}^M \\hat{\\theta}_m v_m\n",
    "$$\n",
    "\n",
    "**TODO**: proof\n",
    "\n",
    "- we first standardize the inputs.\n",
    "\n",
    "- Note that if M = p, we would get least squares estimates, since **Z**=**UD** span the column space of **X**.\n",
    "\n",
    "- PCR is very similar to ridge regression."
   ]
  }
 ],
 "metadata": {
  "kernelspec": {
   "display_name": "Python 3",
   "language": "python",
   "name": "python3"
  },
  "language_info": {
   "codemirror_mode": {
    "name": "ipython",
    "version": 3
   },
   "file_extension": ".py",
   "mimetype": "text/x-python",
   "name": "python",
   "nbconvert_exporter": "python",
   "pygments_lexer": "ipython3",
   "version": "3.6.5"
  }
 },
 "nbformat": 4,
 "nbformat_minor": 2
}
