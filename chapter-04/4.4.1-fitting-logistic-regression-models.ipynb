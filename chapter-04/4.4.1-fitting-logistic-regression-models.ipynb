{
 "cells": [
  {
   "cell_type": "markdown",
   "metadata": {},
   "source": [
    "# 4.4.1 Fitting Logistic Regression Models\n",
    "\n",
    "Logistic regression models fit by maximum likelihood, the log-likelihood for N observations is (4.19):\n",
    "$$\n",
    "l(\\theta)=\\sum_{i=1}^N \\log p_{g_i}(x_i, \\theta),\n",
    "$$"
   ]
  },
  {
   "cell_type": "markdown",
   "metadata": {},
   "source": [
    "We discuss in detail the two-class case, it is convenient to code the two-class $g_i$ via 0/1 response $y_i$. The log-likelihood can be written (4.20):\n",
    "$$\n",
    "\\begin{align}\n",
    "l(\\beta) &= \\sum_{i=1}^N \\left \\{y_i \\log p(x_i; \\beta) + (1-y_i)log(1 - p(x_i;\\beta)) \\right \\}\\\\\n",
    "&= \\sum_{i=1}^N \\left \\{ \n",
    "  y_i(\\beta^Tx_i - log(1+e^{\\beta^Tx_i})) -\n",
    "  (1-y_i)log(1+e^{\\beta^Tx_i})\n",
    "\\right\\}\\\\\n",
    "&= \\sum_{i=1}^N \\left \\{ y_i\\beta^Tx_i - \\log (1+e^{\\beta^Tx_i}) \\right\\}\n",
    "\\end{align}\n",
    "$$\n",
    "\n",
    "Here $\\beta = \\{\\beta_{10}, \\beta_1\\}$, and we assume that the vector of inputs $x_i$ includes the constant term 1."
   ]
  },
  {
   "cell_type": "markdown",
   "metadata": {},
   "source": [
    "To maximize the log-likelihood, we set its derivative to zero (4.21):\n",
    "$$\n",
    "\\begin{align}\n",
    "\\cfrac{\\partial l(\\beta)}{\\partial \\beta} &=\\cfrac{\\partial \\left [\n",
    "\\sum_{i=1}^N \\left \\{ y_i\\beta^Tx_i - \\log (1+e^{\\beta^Tx_i}) \\right\\}\n",
    "\\right]}\n",
    "{\\partial \\beta}\\\\\n",
    "&= \\sum_{i=1}^N \\left \\{ y_ix_i - \\cfrac{e^{\\beta^Tx_i}}{1+e^{\\beta^Tx_i}}   x_i\\right\\}\\\\\n",
    "&= \\sum_{i=1}^N x_i(y_i-p(x_i; \\beta))\n",
    "\\end{align}\n",
    "$$\n",
    "\n",
    "which are p + 1 equations *nonlinear* in $\\beta$. Notice that since the first component of $x_i$ is 1, the first score equation specifies that $\\sum_{i=1}^N y_i = \\sum_{i=1}^N p(x_i;\\beta)$, the *expected* number of class ones matches the observed number (ane hence also class twos)."
   ]
  }
 ],
 "metadata": {
  "kernelspec": {
   "display_name": "Python 3",
   "language": "python",
   "name": "python3"
  },
  "language_info": {
   "codemirror_mode": {
    "name": "ipython",
    "version": 3
   },
   "file_extension": ".py",
   "mimetype": "text/x-python",
   "name": "python",
   "nbconvert_exporter": "python",
   "pygments_lexer": "ipython3",
   "version": "3.6.5"
  }
 },
 "nbformat": 4,
 "nbformat_minor": 2
}
